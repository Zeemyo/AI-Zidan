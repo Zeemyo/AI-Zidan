{
 "cells": [
  {
   "cell_type": "code",
   "execution_count": null,
   "metadata": {},
   "outputs": [],
   "source": [
    "# Mount dari google drive kita\n",
    "from google.colab import drive\n",
    "drive.mount('/content/drive')"
   ]
  },
  {
   "cell_type": "code",
   "execution_count": null,
   "metadata": {},
   "outputs": [],
   "source": [
    "# Menampilkan dataset yang di pakai\n",
    "import pandas as pd\n",
    "\n",
    "df = pd.read_csv('/content/drive/MyDrive/dataset/student-gabung.csv')\n",
    "\n",
    "df"
   ]
  },
  {
   "cell_type": "code",
   "execution_count": null,
   "metadata": {},
   "outputs": [],
   "source": [
    "# load dataset\n",
    "d = pd.read_csv('/content/drive/MyDrive/dataset/student-gabung.csv')\n",
    "len(d)"
   ]
  },
  {
   "cell_type": "code",
   "execution_count": null,
   "metadata": {},
   "outputs": [],
   "source": [
    "# Menggenerate label biner (pass/fail) berdasarkan G1+G2+G3 (test grades, masing-masing 0-20 poin); ambang batas kelulusan adalah jumlah>=30\n",
    "d['pass'] = d.apply(lambda row: 1 if (row['G1']+row['G2']+row['G3']) >= 35 else 0, axis=1)\n",
    "d = d.drop(['G1', 'G2', 'G3'], axis=1)\n",
    "d.head()"
   ]
  },
  {
   "cell_type": "code",
   "execution_count": null,
   "metadata": {},
   "outputs": [],
   "source": [
    "# Menggunakan penyandian pada kolom kategorikal\n",
    "d = pd.get_dummies(d, columns=['sex', 'school', 'address', 'famsize', 'Pstatus', 'Mjob', 'Fjob', \n",
    "                               'reason', 'guardian', 'schoolsup', 'famsup', 'paid', 'activities',\n",
    "                               'nursery', 'higher', 'internet', 'romantic'])\n",
    "d.head()"
   ]
  },
  {
   "cell_type": "code",
   "execution_count": null,
   "metadata": {},
   "outputs": [],
   "source": [
    "# Baris di acak\n",
    "d = d.sample(frac=1)\n",
    "\n",
    "d"
   ]
  },
  {
   "cell_type": "code",
   "execution_count": null,
   "metadata": {},
   "outputs": [],
   "source": [
    "# split training and testing data\n",
    "d_train = d[:500]\n",
    "d_test = d[500:]"
   ]
  },
  {
   "cell_type": "code",
   "execution_count": null,
   "metadata": {},
   "outputs": [],
   "source": [
    "# 500 data pertama\n",
    "d_train_att = d_train.drop(['pass'], axis=1)\n",
    "d_train_pass = d_train['pass']\n",
    "\n",
    "d_train_pass"
   ]
  },
  {
   "cell_type": "code",
   "execution_count": null,
   "metadata": {},
   "outputs": [],
   "source": [
    "# setelah dikurang 500 data pertama sisanya\n",
    "d_test_att = d_test.drop(['pass'], axis=1)\n",
    "d_test_pass = d_test['pass']\n",
    "\n",
    "d_test_pass"
   ]
  },
  {
   "cell_type": "code",
   "execution_count": null,
   "metadata": {},
   "outputs": [],
   "source": [
    "#semua data\n",
    "d_att = d.drop(['pass'], axis=1)\n",
    "d_pass = d['pass']\n",
    "\n",
    "d_pass"
   ]
  },
  {
   "cell_type": "code",
   "execution_count": null,
   "metadata": {},
   "outputs": [],
   "source": [
    "# fit a decision tree\n",
    "from sklearn import tree\n",
    "t = tree.DecisionTreeClassifier(criterion=\"entropy\", max_depth=5)\n",
    "t = t.fit(d_train_att, d_train_pass)\n",
    "\n",
    "t.score(d_test_att, d_test_pass)"
   ]
  }
 ],
 "metadata": {
  "kernelspec": {
   "display_name": "Python 3",
   "language": "python",
   "name": "python3"
  },
  "language_info": {
   "codemirror_mode": {
    "name": "ipython",
    "version": 3
   },
   "file_extension": ".py",
   "mimetype": "text/x-python",
   "name": "python",
   "nbconvert_exporter": "python",
   "pygments_lexer": "ipython3",
   "version": "3.9.13"
  },
  "orig_nbformat": 4,
  "vscode": {
   "interpreter": {
    "hash": "981e00b37f71612cd71219575bac01919e210d8ccdb1890fa4d8dda093375d42"
   }
  }
 },
 "nbformat": 4,
 "nbformat_minor": 2
}
